{
 "cells": [
  {
   "cell_type": "code",
   "execution_count": 1,
   "metadata": {},
   "outputs": [],
   "source": [
    "import pandas as pd\n",
    "import numpy as np"
   ]
  },
  {
   "cell_type": "code",
   "execution_count": 4,
   "metadata": {},
   "outputs": [],
   "source": [
    "file = input('File name?')\n",
    "profileNum=input('Profile num?')\n",
    "data = pd.read_csv(file, sep='\t')"
   ]
  },
  {
   "cell_type": "code",
   "execution_count": 19,
   "metadata": {},
   "outputs": [],
   "source": [
    "data['y[m]'] = data['y[m]'].astype(int)"
   ]
  },
  {
   "cell_type": "code",
   "execution_count": 22,
   "metadata": {},
   "outputs": [],
   "source": [
    "cols = ['y[m]', 'Cond.1[mS/m]', 'Cond.2[mS/m]', 'Cond.3[mS/m]']\n",
    "soundings = data[cols].set_index(cols[0])\n",
    "df = pd.DataFrame(soundings)"
   ]
  },
  {
   "cell_type": "code",
   "execution_count": 114,
   "metadata": {},
   "outputs": [],
   "source": [
    "soundingNums=df.shape[0]"
   ]
  },
  {
   "cell_type": "code",
   "execution_count": 105,
   "metadata": {},
   "outputs": [],
   "source": [
    "def getSoundings(datafile):\n",
    "    for i in range(soundingNums):\n",
    "        filename='kp{}_{}'.format(profileNum, i)\n",
    "        S = datafile.loc[i]\n",
    "        sample = open(filename + '.TEM', 'w') \n",
    "        print('     {}            309.000               0.0000       0.0000\\n                                                       \\n                                                  \\n                                                                      \\n           0.000     0.000     0.000     0.000     0.000    0   58 F F\\n   No.      TIME (msec)     nV/m**2\\n    1   3.0000E+04   {}\\n    2   3.0000E+04   {}\\n    3   3.0000E+04   {}'.format(filename,S[0],S[1],S[2]), file =sample)\n",
    "        sample.close() "
   ]
  },
  {
   "cell_type": "code",
   "execution_count": 112,
   "metadata": {},
   "outputs": [],
   "source": [
    "getSoundings(df)"
   ]
  },
  {
   "cell_type": "code",
   "execution_count": 113,
   "metadata": {},
   "outputs": [
    {
     "name": "stderr",
     "output_type": "stream",
     "text": [
      "[NbConvertApp] Converting notebook GF2XD.ipynb to script\n",
      "[NbConvertApp] Writing 1132 bytes to GF2XD.py\n"
     ]
    }
   ],
   "source": [
    "!jupyter nbconvert --to script *.ipynb"
   ]
  },
  {
   "cell_type": "code",
   "execution_count": null,
   "metadata": {},
   "outputs": [],
   "source": []
  }
 ],
 "metadata": {
  "kernelspec": {
   "display_name": "Python 3",
   "language": "python",
   "name": "python3"
  },
  "language_info": {
   "codemirror_mode": {
    "name": "ipython",
    "version": 3
   },
   "file_extension": ".py",
   "mimetype": "text/x-python",
   "name": "python",
   "nbconvert_exporter": "python",
   "pygments_lexer": "ipython3",
   "version": "3.6.7"
  }
 },
 "nbformat": 4,
 "nbformat_minor": 4
}
